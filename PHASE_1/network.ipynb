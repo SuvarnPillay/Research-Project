{
 "cells": [
  {
   "cell_type": "markdown",
   "metadata": {},
   "source": [
    "Data Preprocessing\n",
    "You'll first need to preprocess the CSV data to create the appropriate format for training the DBN. This involves separating the data into features and targets for training and testing."
   ]
  },
  {
   "cell_type": "code",
   "execution_count": null,
   "metadata": {
    "vscode": {
     "languageId": "plaintext"
    }
   },
   "outputs": [],
   "source": [
    "import pandas as pd\n",
    "from sklearn.model_selection import train_test_split\n",
    "import numpy as np\n",
    "\n",
    "# Load the data\n",
    "csv_file = 'synthetic_trajectory_data.csv'\n",
    "data = pd.read_csv(csv_file)\n",
    "\n",
    "# Extract features and targets\n",
    "features = ['Timestep', 'Projectile_Position_X', 'Projectile_Position_Y',\n",
    "            'Projectile_Velocity', 'Projectile_Angle',\n",
    "            'Interceptor_Position_X', 'Interceptor_Position_Y',\n",
    "            'Interceptor_Velocity', 'Interceptor_Angle']\n",
    "\n",
    "# Features for current timestep\n",
    "X = data[features]\n",
    "\n",
    "# Add future timestep data to create the target variables\n",
    "future_features = ['Projectile_Position_X', 'Projectile_Position_Y',\n",
    "                    'Interceptor_Position_X', 'Interceptor_Position_Y']\n",
    "y = data[future_features].shift(-1)  # Shift by one timestep to get future positions\n",
    "y = y[:-1]  # Remove last row with NaN values\n",
    "\n",
    "# Split into train and test sets\n",
    "X_train, X_test, y_train, y_test = train_test_split(X, y, test_size=0.2, random_state=42)\n"
   ]
  },
  {
   "cell_type": "markdown",
   "metadata": {},
   "source": [
    "Define and Train the DBN\n",
    "Update the DBN structure to reflect the temporal dependencies and relationships for trajectory prediction."
   ]
  },
  {
   "cell_type": "code",
   "execution_count": null,
   "metadata": {
    "vscode": {
     "languageId": "plaintext"
    }
   },
   "outputs": [],
   "source": [
    "from pgmpy.models import DynamicBayesianNetwork as DBN\n",
    "from pgmpy.estimators import MaximumLikelihoodEstimator\n",
    "\n",
    "def define_dbn_structure():\n",
    "    dbn = DBN()\n",
    "    \n",
    "    # Temporal edges\n",
    "    edges = [\n",
    "        (('Projectile_Position_X', 0), ('Projectile_Position_X', 1)),\n",
    "        (('Projectile_Position_Y', 0), ('Projectile_Position_Y', 1)),\n",
    "        (('Interceptor_Position_X', 0), ('Interceptor_Position_X', 1)),\n",
    "        (('Interceptor_Position_Y', 0), ('Interceptor_Position_Y', 1))\n",
    "    ]\n",
    "    dbn.add_edges_from(edges)\n",
    "    \n",
    "    # Dependencies between current state variables\n",
    "    dependencies = [\n",
    "        (('Projectile_Position_X', 0), ('Interceptor_Position_X', 0)),\n",
    "        (('Projectile_Position_Y', 0), ('Interceptor_Position_Y', 0)),\n",
    "        (('Interceptor_Position_X', 0), ('Interceptor_Position_X', 1)),\n",
    "        (('Interceptor_Position_Y', 0), ('Interceptor_Position_Y', 1))\n",
    "    ]\n",
    "    dbn.add_edges_from(dependencies)\n",
    "    \n",
    "    return dbn\n",
    "\n",
    "# Initialize the DBN structure\n",
    "dbn = define_dbn_structure()\n",
    "\n",
    "# Fit the DBN using the MaximumLikelihoodEstimator\n",
    "dbn.fit(X_train, estimator=MaximumLikelihoodEstimator)\n"
   ]
  },
  {
   "cell_type": "markdown",
   "metadata": {},
   "source": [
    "Predict and Evaluate\n",
    "Use the trained DBN to predict the future positions and compare them with the actual future positions."
   ]
  },
  {
   "cell_type": "code",
   "execution_count": null,
   "metadata": {
    "vscode": {
     "languageId": "plaintext"
    }
   },
   "outputs": [],
   "source": [
    "from pgmpy.inference import DBNInference\n",
    "\n",
    "# Initialize the DBN Inference\n",
    "dbn_infer = DBNInference(dbn)\n",
    "\n",
    "# Predict and evaluate\n",
    "predictions = []\n",
    "for i in range(len(X_test)):\n",
    "    evidence = X_test.iloc[i].to_dict()\n",
    "    pred = dbn_infer.forward_inference(variables=[('Projectile_Position_X', 1), ('Projectile_Position_Y', 1),\n",
    "                                                  ('Interceptor_Position_X', 1), ('Interceptor_Position_Y', 1)],\n",
    "                                        evidence=evidence)\n",
    "    predictions.append(pred)\n",
    "\n",
    "# Convert predictions to DataFrame for comparison\n",
    "predictions_df = pd.DataFrame(predictions)\n",
    "\n",
    "# Evaluate the performance (you may need to adapt this based on your exact evaluation criteria)\n",
    "accuracy = np.mean(np.abs(predictions_df.values - y_test.values) < tolerance)\n",
    "print(f\"Prediction Accuracy: {accuracy:.2f}\")\n"
   ]
  }
 ],
 "metadata": {
  "language_info": {
   "name": "python"
  }
 },
 "nbformat": 4,
 "nbformat_minor": 2
}
